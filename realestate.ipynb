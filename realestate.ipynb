{
 "cells": [
  {
   "cell_type": "code",
   "execution_count": 4,
   "metadata": {},
   "outputs": [],
   "source": [
    "import pandas as pd"
   ]
  },
  {
   "cell_type": "code",
   "execution_count": 24,
   "metadata": {},
   "outputs": [],
   "source": [
    "import numpy as np"
   ]
  },
  {
   "cell_type": "code",
   "execution_count": 34,
   "metadata": {},
   "outputs": [],
   "source": [
    "import math "
   ]
  },
  {
   "cell_type": "code",
   "execution_count": 5,
   "metadata": {},
   "outputs": [],
   "source": [
    "data=pd.read_excel('realestate.xlsx')\n"
   ]
  },
  {
   "cell_type": "code",
   "execution_count": 6,
   "metadata": {},
   "outputs": [
    {
     "data": {
      "text/html": [
       "<div>\n",
       "<style scoped>\n",
       "    .dataframe tbody tr th:only-of-type {\n",
       "        vertical-align: middle;\n",
       "    }\n",
       "\n",
       "    .dataframe tbody tr th {\n",
       "        vertical-align: top;\n",
       "    }\n",
       "\n",
       "    .dataframe thead th {\n",
       "        text-align: right;\n",
       "    }\n",
       "</style>\n",
       "<table border=\"1\" class=\"dataframe\">\n",
       "  <thead>\n",
       "    <tr style=\"text-align: right;\">\n",
       "      <th></th>\n",
       "      <th>LIST.PRICE</th>\n",
       "      <th>SQFT</th>\n",
       "      <th>HOME.TYPE</th>\n",
       "      <th>BEDS</th>\n",
       "      <th>BATHS</th>\n",
       "      <th>LOT.SIZE</th>\n",
       "      <th>YEAR.BUILT</th>\n",
       "      <th>DAYS.ON.MARKET</th>\n",
       "      <th>PARKING.TYPE</th>\n",
       "      <th>ZIP</th>\n",
       "    </tr>\n",
       "  </thead>\n",
       "  <tbody>\n",
       "    <tr>\n",
       "      <th>0</th>\n",
       "      <td>895.000</td>\n",
       "      <td>3040</td>\n",
       "      <td>Single Family Residential</td>\n",
       "      <td>4</td>\n",
       "      <td>2.50</td>\n",
       "      <td>54886.0</td>\n",
       "      <td>1961</td>\n",
       "      <td>349</td>\n",
       "      <td>1</td>\n",
       "      <td>80303</td>\n",
       "    </tr>\n",
       "    <tr>\n",
       "      <th>1</th>\n",
       "      <td>659.000</td>\n",
       "      <td>2920</td>\n",
       "      <td>Single Family Residential</td>\n",
       "      <td>3</td>\n",
       "      <td>2.75</td>\n",
       "      <td>38754.0</td>\n",
       "      <td>1966</td>\n",
       "      <td>81</td>\n",
       "      <td>1</td>\n",
       "      <td>80303</td>\n",
       "    </tr>\n",
       "    <tr>\n",
       "      <th>2</th>\n",
       "      <td>1840.000</td>\n",
       "      <td>3845</td>\n",
       "      <td>Single Family Residential</td>\n",
       "      <td>4</td>\n",
       "      <td>3.25</td>\n",
       "      <td>46609.0</td>\n",
       "      <td>2005</td>\n",
       "      <td>19</td>\n",
       "      <td>1</td>\n",
       "      <td>80303</td>\n",
       "    </tr>\n",
       "    <tr>\n",
       "      <th>3</th>\n",
       "      <td>335.000</td>\n",
       "      <td>928</td>\n",
       "      <td>Condo</td>\n",
       "      <td>2</td>\n",
       "      <td>1.00</td>\n",
       "      <td>NaN</td>\n",
       "      <td>1982</td>\n",
       "      <td>31</td>\n",
       "      <td>1</td>\n",
       "      <td>80305</td>\n",
       "    </tr>\n",
       "    <tr>\n",
       "      <th>4</th>\n",
       "      <td>299.000</td>\n",
       "      <td>1044</td>\n",
       "      <td>Townhouse</td>\n",
       "      <td>2</td>\n",
       "      <td>1.50</td>\n",
       "      <td>NaN</td>\n",
       "      <td>1972</td>\n",
       "      <td>24</td>\n",
       "      <td>1</td>\n",
       "      <td>80305</td>\n",
       "    </tr>\n",
       "    <tr>\n",
       "      <th>...</th>\n",
       "      <td>...</td>\n",
       "      <td>...</td>\n",
       "      <td>...</td>\n",
       "      <td>...</td>\n",
       "      <td>...</td>\n",
       "      <td>...</td>\n",
       "      <td>...</td>\n",
       "      <td>...</td>\n",
       "      <td>...</td>\n",
       "      <td>...</td>\n",
       "    </tr>\n",
       "    <tr>\n",
       "      <th>309</th>\n",
       "      <td>600.000</td>\n",
       "      <td>1414</td>\n",
       "      <td>Condo</td>\n",
       "      <td>2</td>\n",
       "      <td>2.25</td>\n",
       "      <td>NaN</td>\n",
       "      <td>2008</td>\n",
       "      <td>13</td>\n",
       "      <td>1</td>\n",
       "      <td>80304</td>\n",
       "    </tr>\n",
       "    <tr>\n",
       "      <th>310</th>\n",
       "      <td>529.000</td>\n",
       "      <td>1202</td>\n",
       "      <td>Condo</td>\n",
       "      <td>2</td>\n",
       "      <td>1.75</td>\n",
       "      <td>NaN</td>\n",
       "      <td>2008</td>\n",
       "      <td>12</td>\n",
       "      <td>1</td>\n",
       "      <td>80304</td>\n",
       "    </tr>\n",
       "    <tr>\n",
       "      <th>311</th>\n",
       "      <td>489.900</td>\n",
       "      <td>1538</td>\n",
       "      <td>Townhouse</td>\n",
       "      <td>2</td>\n",
       "      <td>2.00</td>\n",
       "      <td>NaN</td>\n",
       "      <td>2003</td>\n",
       "      <td>33</td>\n",
       "      <td>1</td>\n",
       "      <td>80304</td>\n",
       "    </tr>\n",
       "    <tr>\n",
       "      <th>312</th>\n",
       "      <td>150.090</td>\n",
       "      <td>736</td>\n",
       "      <td>Condo</td>\n",
       "      <td>1</td>\n",
       "      <td>1.00</td>\n",
       "      <td>NaN</td>\n",
       "      <td>2005</td>\n",
       "      <td>12</td>\n",
       "      <td>1</td>\n",
       "      <td>80304</td>\n",
       "    </tr>\n",
       "    <tr>\n",
       "      <th>313</th>\n",
       "      <td>118.671</td>\n",
       "      <td>752</td>\n",
       "      <td>Condo</td>\n",
       "      <td>1</td>\n",
       "      <td>1.00</td>\n",
       "      <td>NaN</td>\n",
       "      <td>2011</td>\n",
       "      <td>10</td>\n",
       "      <td>1</td>\n",
       "      <td>80304</td>\n",
       "    </tr>\n",
       "  </tbody>\n",
       "</table>\n",
       "<p>314 rows × 10 columns</p>\n",
       "</div>"
      ],
      "text/plain": [
       "     LIST.PRICE  SQFT                  HOME.TYPE  BEDS  BATHS  LOT.SIZE  \\\n",
       "0       895.000  3040  Single Family Residential     4   2.50   54886.0   \n",
       "1       659.000  2920  Single Family Residential     3   2.75   38754.0   \n",
       "2      1840.000  3845  Single Family Residential     4   3.25   46609.0   \n",
       "3       335.000   928                      Condo     2   1.00       NaN   \n",
       "4       299.000  1044                  Townhouse     2   1.50       NaN   \n",
       "..          ...   ...                        ...   ...    ...       ...   \n",
       "309     600.000  1414                      Condo     2   2.25       NaN   \n",
       "310     529.000  1202                      Condo     2   1.75       NaN   \n",
       "311     489.900  1538                  Townhouse     2   2.00       NaN   \n",
       "312     150.090   736                      Condo     1   1.00       NaN   \n",
       "313     118.671   752                      Condo     1   1.00       NaN   \n",
       "\n",
       "     YEAR.BUILT  DAYS.ON.MARKET  PARKING.TYPE    ZIP  \n",
       "0          1961             349             1  80303  \n",
       "1          1966              81             1  80303  \n",
       "2          2005              19             1  80303  \n",
       "3          1982              31             1  80305  \n",
       "4          1972              24             1  80305  \n",
       "..          ...             ...           ...    ...  \n",
       "309        2008              13             1  80304  \n",
       "310        2008              12             1  80304  \n",
       "311        2003              33             1  80304  \n",
       "312        2005              12             1  80304  \n",
       "313        2011              10             1  80304  \n",
       "\n",
       "[314 rows x 10 columns]"
      ]
     },
     "execution_count": 6,
     "metadata": {},
     "output_type": "execute_result"
    }
   ],
   "source": [
    "data"
   ]
  },
  {
   "cell_type": "code",
   "execution_count": 7,
   "metadata": {},
   "outputs": [
    {
     "data": {
      "text/plain": [
       "LIST.PRICE         0\n",
       "SQFT               0\n",
       "HOME.TYPE          0\n",
       "BEDS               0\n",
       "BATHS              0\n",
       "LOT.SIZE          94\n",
       "YEAR.BUILT         0\n",
       "DAYS.ON.MARKET     0\n",
       "PARKING.TYPE       0\n",
       "ZIP                0\n",
       "dtype: int64"
      ]
     },
     "execution_count": 7,
     "metadata": {},
     "output_type": "execute_result"
    }
   ],
   "source": [
    "data.isna().sum()"
   ]
  },
  {
   "cell_type": "code",
   "execution_count": 9,
   "metadata": {},
   "outputs": [
    {
     "data": {
      "text/plain": [
       "LIST.PRICE          967.761602\n",
       "SQFT               2559.585987\n",
       "BEDS                  3.044586\n",
       "BATHS                 2.484076\n",
       "LOT.SIZE          25296.900000\n",
       "YEAR.BUILT         1982.238854\n",
       "DAYS.ON.MARKET       74.318471\n",
       "PARKING.TYPE          0.901274\n",
       "ZIP               80303.028662\n",
       "dtype: float64"
      ]
     },
     "execution_count": 9,
     "metadata": {},
     "output_type": "execute_result"
    }
   ],
   "source": [
    "data.mean()"
   ]
  },
  {
   "cell_type": "code",
   "execution_count": 11,
   "metadata": {},
   "outputs": [],
   "source": [
    "data=data.fillna(data.mean())"
   ]
  },
  {
   "cell_type": "code",
   "execution_count": 12,
   "metadata": {},
   "outputs": [
    {
     "data": {
      "text/html": [
       "<div>\n",
       "<style scoped>\n",
       "    .dataframe tbody tr th:only-of-type {\n",
       "        vertical-align: middle;\n",
       "    }\n",
       "\n",
       "    .dataframe tbody tr th {\n",
       "        vertical-align: top;\n",
       "    }\n",
       "\n",
       "    .dataframe thead th {\n",
       "        text-align: right;\n",
       "    }\n",
       "</style>\n",
       "<table border=\"1\" class=\"dataframe\">\n",
       "  <thead>\n",
       "    <tr style=\"text-align: right;\">\n",
       "      <th></th>\n",
       "      <th>LIST.PRICE</th>\n",
       "      <th>SQFT</th>\n",
       "      <th>HOME.TYPE</th>\n",
       "      <th>BEDS</th>\n",
       "      <th>BATHS</th>\n",
       "      <th>LOT.SIZE</th>\n",
       "      <th>YEAR.BUILT</th>\n",
       "      <th>DAYS.ON.MARKET</th>\n",
       "      <th>PARKING.TYPE</th>\n",
       "      <th>ZIP</th>\n",
       "    </tr>\n",
       "  </thead>\n",
       "  <tbody>\n",
       "    <tr>\n",
       "      <th>0</th>\n",
       "      <td>895.000</td>\n",
       "      <td>3040</td>\n",
       "      <td>Single Family Residential</td>\n",
       "      <td>4</td>\n",
       "      <td>2.50</td>\n",
       "      <td>54886.0</td>\n",
       "      <td>1961</td>\n",
       "      <td>349</td>\n",
       "      <td>1</td>\n",
       "      <td>80303</td>\n",
       "    </tr>\n",
       "    <tr>\n",
       "      <th>1</th>\n",
       "      <td>659.000</td>\n",
       "      <td>2920</td>\n",
       "      <td>Single Family Residential</td>\n",
       "      <td>3</td>\n",
       "      <td>2.75</td>\n",
       "      <td>38754.0</td>\n",
       "      <td>1966</td>\n",
       "      <td>81</td>\n",
       "      <td>1</td>\n",
       "      <td>80303</td>\n",
       "    </tr>\n",
       "    <tr>\n",
       "      <th>2</th>\n",
       "      <td>1840.000</td>\n",
       "      <td>3845</td>\n",
       "      <td>Single Family Residential</td>\n",
       "      <td>4</td>\n",
       "      <td>3.25</td>\n",
       "      <td>46609.0</td>\n",
       "      <td>2005</td>\n",
       "      <td>19</td>\n",
       "      <td>1</td>\n",
       "      <td>80303</td>\n",
       "    </tr>\n",
       "    <tr>\n",
       "      <th>3</th>\n",
       "      <td>335.000</td>\n",
       "      <td>928</td>\n",
       "      <td>Condo</td>\n",
       "      <td>2</td>\n",
       "      <td>1.00</td>\n",
       "      <td>25296.9</td>\n",
       "      <td>1982</td>\n",
       "      <td>31</td>\n",
       "      <td>1</td>\n",
       "      <td>80305</td>\n",
       "    </tr>\n",
       "    <tr>\n",
       "      <th>4</th>\n",
       "      <td>299.000</td>\n",
       "      <td>1044</td>\n",
       "      <td>Townhouse</td>\n",
       "      <td>2</td>\n",
       "      <td>1.50</td>\n",
       "      <td>25296.9</td>\n",
       "      <td>1972</td>\n",
       "      <td>24</td>\n",
       "      <td>1</td>\n",
       "      <td>80305</td>\n",
       "    </tr>\n",
       "    <tr>\n",
       "      <th>...</th>\n",
       "      <td>...</td>\n",
       "      <td>...</td>\n",
       "      <td>...</td>\n",
       "      <td>...</td>\n",
       "      <td>...</td>\n",
       "      <td>...</td>\n",
       "      <td>...</td>\n",
       "      <td>...</td>\n",
       "      <td>...</td>\n",
       "      <td>...</td>\n",
       "    </tr>\n",
       "    <tr>\n",
       "      <th>309</th>\n",
       "      <td>600.000</td>\n",
       "      <td>1414</td>\n",
       "      <td>Condo</td>\n",
       "      <td>2</td>\n",
       "      <td>2.25</td>\n",
       "      <td>25296.9</td>\n",
       "      <td>2008</td>\n",
       "      <td>13</td>\n",
       "      <td>1</td>\n",
       "      <td>80304</td>\n",
       "    </tr>\n",
       "    <tr>\n",
       "      <th>310</th>\n",
       "      <td>529.000</td>\n",
       "      <td>1202</td>\n",
       "      <td>Condo</td>\n",
       "      <td>2</td>\n",
       "      <td>1.75</td>\n",
       "      <td>25296.9</td>\n",
       "      <td>2008</td>\n",
       "      <td>12</td>\n",
       "      <td>1</td>\n",
       "      <td>80304</td>\n",
       "    </tr>\n",
       "    <tr>\n",
       "      <th>311</th>\n",
       "      <td>489.900</td>\n",
       "      <td>1538</td>\n",
       "      <td>Townhouse</td>\n",
       "      <td>2</td>\n",
       "      <td>2.00</td>\n",
       "      <td>25296.9</td>\n",
       "      <td>2003</td>\n",
       "      <td>33</td>\n",
       "      <td>1</td>\n",
       "      <td>80304</td>\n",
       "    </tr>\n",
       "    <tr>\n",
       "      <th>312</th>\n",
       "      <td>150.090</td>\n",
       "      <td>736</td>\n",
       "      <td>Condo</td>\n",
       "      <td>1</td>\n",
       "      <td>1.00</td>\n",
       "      <td>25296.9</td>\n",
       "      <td>2005</td>\n",
       "      <td>12</td>\n",
       "      <td>1</td>\n",
       "      <td>80304</td>\n",
       "    </tr>\n",
       "    <tr>\n",
       "      <th>313</th>\n",
       "      <td>118.671</td>\n",
       "      <td>752</td>\n",
       "      <td>Condo</td>\n",
       "      <td>1</td>\n",
       "      <td>1.00</td>\n",
       "      <td>25296.9</td>\n",
       "      <td>2011</td>\n",
       "      <td>10</td>\n",
       "      <td>1</td>\n",
       "      <td>80304</td>\n",
       "    </tr>\n",
       "  </tbody>\n",
       "</table>\n",
       "<p>314 rows × 10 columns</p>\n",
       "</div>"
      ],
      "text/plain": [
       "     LIST.PRICE  SQFT                  HOME.TYPE  BEDS  BATHS  LOT.SIZE  \\\n",
       "0       895.000  3040  Single Family Residential     4   2.50   54886.0   \n",
       "1       659.000  2920  Single Family Residential     3   2.75   38754.0   \n",
       "2      1840.000  3845  Single Family Residential     4   3.25   46609.0   \n",
       "3       335.000   928                      Condo     2   1.00   25296.9   \n",
       "4       299.000  1044                  Townhouse     2   1.50   25296.9   \n",
       "..          ...   ...                        ...   ...    ...       ...   \n",
       "309     600.000  1414                      Condo     2   2.25   25296.9   \n",
       "310     529.000  1202                      Condo     2   1.75   25296.9   \n",
       "311     489.900  1538                  Townhouse     2   2.00   25296.9   \n",
       "312     150.090   736                      Condo     1   1.00   25296.9   \n",
       "313     118.671   752                      Condo     1   1.00   25296.9   \n",
       "\n",
       "     YEAR.BUILT  DAYS.ON.MARKET  PARKING.TYPE    ZIP  \n",
       "0          1961             349             1  80303  \n",
       "1          1966              81             1  80303  \n",
       "2          2005              19             1  80303  \n",
       "3          1982              31             1  80305  \n",
       "4          1972              24             1  80305  \n",
       "..          ...             ...           ...    ...  \n",
       "309        2008              13             1  80304  \n",
       "310        2008              12             1  80304  \n",
       "311        2003              33             1  80304  \n",
       "312        2005              12             1  80304  \n",
       "313        2011              10             1  80304  \n",
       "\n",
       "[314 rows x 10 columns]"
      ]
     },
     "execution_count": 12,
     "metadata": {},
     "output_type": "execute_result"
    }
   ],
   "source": [
    "data"
   ]
  },
  {
   "cell_type": "code",
   "execution_count": 13,
   "metadata": {},
   "outputs": [],
   "source": [
    "from sklearn import preprocessing\n",
    "le = preprocessing.LabelEncoder()"
   ]
  },
  {
   "cell_type": "code",
   "execution_count": 14,
   "metadata": {},
   "outputs": [
    {
     "data": {
      "text/plain": [
       "LabelEncoder()"
      ]
     },
     "execution_count": 14,
     "metadata": {},
     "output_type": "execute_result"
    }
   ],
   "source": [
    "le.fit(data[\"HOME.TYPE\"])"
   ]
  },
  {
   "cell_type": "code",
   "execution_count": 16,
   "metadata": {},
   "outputs": [],
   "source": [
    "data[\"HOME.TYPE\"]=le.transform(data[\"HOME.TYPE\"])"
   ]
  },
  {
   "cell_type": "code",
   "execution_count": 17,
   "metadata": {},
   "outputs": [
    {
     "data": {
      "text/html": [
       "<div>\n",
       "<style scoped>\n",
       "    .dataframe tbody tr th:only-of-type {\n",
       "        vertical-align: middle;\n",
       "    }\n",
       "\n",
       "    .dataframe tbody tr th {\n",
       "        vertical-align: top;\n",
       "    }\n",
       "\n",
       "    .dataframe thead th {\n",
       "        text-align: right;\n",
       "    }\n",
       "</style>\n",
       "<table border=\"1\" class=\"dataframe\">\n",
       "  <thead>\n",
       "    <tr style=\"text-align: right;\">\n",
       "      <th></th>\n",
       "      <th>LIST.PRICE</th>\n",
       "      <th>SQFT</th>\n",
       "      <th>HOME.TYPE</th>\n",
       "      <th>BEDS</th>\n",
       "      <th>BATHS</th>\n",
       "      <th>LOT.SIZE</th>\n",
       "      <th>YEAR.BUILT</th>\n",
       "      <th>DAYS.ON.MARKET</th>\n",
       "      <th>PARKING.TYPE</th>\n",
       "      <th>ZIP</th>\n",
       "    </tr>\n",
       "  </thead>\n",
       "  <tbody>\n",
       "    <tr>\n",
       "      <th>0</th>\n",
       "      <td>895.000</td>\n",
       "      <td>3040</td>\n",
       "      <td>1</td>\n",
       "      <td>4</td>\n",
       "      <td>2.50</td>\n",
       "      <td>54886.0</td>\n",
       "      <td>1961</td>\n",
       "      <td>349</td>\n",
       "      <td>1</td>\n",
       "      <td>80303</td>\n",
       "    </tr>\n",
       "    <tr>\n",
       "      <th>1</th>\n",
       "      <td>659.000</td>\n",
       "      <td>2920</td>\n",
       "      <td>1</td>\n",
       "      <td>3</td>\n",
       "      <td>2.75</td>\n",
       "      <td>38754.0</td>\n",
       "      <td>1966</td>\n",
       "      <td>81</td>\n",
       "      <td>1</td>\n",
       "      <td>80303</td>\n",
       "    </tr>\n",
       "    <tr>\n",
       "      <th>2</th>\n",
       "      <td>1840.000</td>\n",
       "      <td>3845</td>\n",
       "      <td>1</td>\n",
       "      <td>4</td>\n",
       "      <td>3.25</td>\n",
       "      <td>46609.0</td>\n",
       "      <td>2005</td>\n",
       "      <td>19</td>\n",
       "      <td>1</td>\n",
       "      <td>80303</td>\n",
       "    </tr>\n",
       "    <tr>\n",
       "      <th>3</th>\n",
       "      <td>335.000</td>\n",
       "      <td>928</td>\n",
       "      <td>0</td>\n",
       "      <td>2</td>\n",
       "      <td>1.00</td>\n",
       "      <td>25296.9</td>\n",
       "      <td>1982</td>\n",
       "      <td>31</td>\n",
       "      <td>1</td>\n",
       "      <td>80305</td>\n",
       "    </tr>\n",
       "    <tr>\n",
       "      <th>4</th>\n",
       "      <td>299.000</td>\n",
       "      <td>1044</td>\n",
       "      <td>2</td>\n",
       "      <td>2</td>\n",
       "      <td>1.50</td>\n",
       "      <td>25296.9</td>\n",
       "      <td>1972</td>\n",
       "      <td>24</td>\n",
       "      <td>1</td>\n",
       "      <td>80305</td>\n",
       "    </tr>\n",
       "    <tr>\n",
       "      <th>...</th>\n",
       "      <td>...</td>\n",
       "      <td>...</td>\n",
       "      <td>...</td>\n",
       "      <td>...</td>\n",
       "      <td>...</td>\n",
       "      <td>...</td>\n",
       "      <td>...</td>\n",
       "      <td>...</td>\n",
       "      <td>...</td>\n",
       "      <td>...</td>\n",
       "    </tr>\n",
       "    <tr>\n",
       "      <th>309</th>\n",
       "      <td>600.000</td>\n",
       "      <td>1414</td>\n",
       "      <td>0</td>\n",
       "      <td>2</td>\n",
       "      <td>2.25</td>\n",
       "      <td>25296.9</td>\n",
       "      <td>2008</td>\n",
       "      <td>13</td>\n",
       "      <td>1</td>\n",
       "      <td>80304</td>\n",
       "    </tr>\n",
       "    <tr>\n",
       "      <th>310</th>\n",
       "      <td>529.000</td>\n",
       "      <td>1202</td>\n",
       "      <td>0</td>\n",
       "      <td>2</td>\n",
       "      <td>1.75</td>\n",
       "      <td>25296.9</td>\n",
       "      <td>2008</td>\n",
       "      <td>12</td>\n",
       "      <td>1</td>\n",
       "      <td>80304</td>\n",
       "    </tr>\n",
       "    <tr>\n",
       "      <th>311</th>\n",
       "      <td>489.900</td>\n",
       "      <td>1538</td>\n",
       "      <td>2</td>\n",
       "      <td>2</td>\n",
       "      <td>2.00</td>\n",
       "      <td>25296.9</td>\n",
       "      <td>2003</td>\n",
       "      <td>33</td>\n",
       "      <td>1</td>\n",
       "      <td>80304</td>\n",
       "    </tr>\n",
       "    <tr>\n",
       "      <th>312</th>\n",
       "      <td>150.090</td>\n",
       "      <td>736</td>\n",
       "      <td>0</td>\n",
       "      <td>1</td>\n",
       "      <td>1.00</td>\n",
       "      <td>25296.9</td>\n",
       "      <td>2005</td>\n",
       "      <td>12</td>\n",
       "      <td>1</td>\n",
       "      <td>80304</td>\n",
       "    </tr>\n",
       "    <tr>\n",
       "      <th>313</th>\n",
       "      <td>118.671</td>\n",
       "      <td>752</td>\n",
       "      <td>0</td>\n",
       "      <td>1</td>\n",
       "      <td>1.00</td>\n",
       "      <td>25296.9</td>\n",
       "      <td>2011</td>\n",
       "      <td>10</td>\n",
       "      <td>1</td>\n",
       "      <td>80304</td>\n",
       "    </tr>\n",
       "  </tbody>\n",
       "</table>\n",
       "<p>314 rows × 10 columns</p>\n",
       "</div>"
      ],
      "text/plain": [
       "     LIST.PRICE  SQFT  HOME.TYPE  BEDS  BATHS  LOT.SIZE  YEAR.BUILT  \\\n",
       "0       895.000  3040          1     4   2.50   54886.0        1961   \n",
       "1       659.000  2920          1     3   2.75   38754.0        1966   \n",
       "2      1840.000  3845          1     4   3.25   46609.0        2005   \n",
       "3       335.000   928          0     2   1.00   25296.9        1982   \n",
       "4       299.000  1044          2     2   1.50   25296.9        1972   \n",
       "..          ...   ...        ...   ...    ...       ...         ...   \n",
       "309     600.000  1414          0     2   2.25   25296.9        2008   \n",
       "310     529.000  1202          0     2   1.75   25296.9        2008   \n",
       "311     489.900  1538          2     2   2.00   25296.9        2003   \n",
       "312     150.090   736          0     1   1.00   25296.9        2005   \n",
       "313     118.671   752          0     1   1.00   25296.9        2011   \n",
       "\n",
       "     DAYS.ON.MARKET  PARKING.TYPE    ZIP  \n",
       "0               349             1  80303  \n",
       "1                81             1  80303  \n",
       "2                19             1  80303  \n",
       "3                31             1  80305  \n",
       "4                24             1  80305  \n",
       "..              ...           ...    ...  \n",
       "309              13             1  80304  \n",
       "310              12             1  80304  \n",
       "311              33             1  80304  \n",
       "312              12             1  80304  \n",
       "313              10             1  80304  \n",
       "\n",
       "[314 rows x 10 columns]"
      ]
     },
     "execution_count": 17,
     "metadata": {},
     "output_type": "execute_result"
    }
   ],
   "source": [
    "data"
   ]
  },
  {
   "cell_type": "code",
   "execution_count": 18,
   "metadata": {},
   "outputs": [],
   "source": [
    "data_matrix=data.values"
   ]
  },
  {
   "cell_type": "code",
   "execution_count": 19,
   "metadata": {},
   "outputs": [
    {
     "data": {
      "text/plain": [
       "array([[8.95000e+02, 3.04000e+03, 1.00000e+00, ..., 3.49000e+02,\n",
       "        1.00000e+00, 8.03030e+04],\n",
       "       [6.59000e+02, 2.92000e+03, 1.00000e+00, ..., 8.10000e+01,\n",
       "        1.00000e+00, 8.03030e+04],\n",
       "       [1.84000e+03, 3.84500e+03, 1.00000e+00, ..., 1.90000e+01,\n",
       "        1.00000e+00, 8.03030e+04],\n",
       "       ...,\n",
       "       [4.89900e+02, 1.53800e+03, 2.00000e+00, ..., 3.30000e+01,\n",
       "        1.00000e+00, 8.03040e+04],\n",
       "       [1.50090e+02, 7.36000e+02, 0.00000e+00, ..., 1.20000e+01,\n",
       "        1.00000e+00, 8.03040e+04],\n",
       "       [1.18671e+02, 7.52000e+02, 0.00000e+00, ..., 1.00000e+01,\n",
       "        1.00000e+00, 8.03040e+04]])"
      ]
     },
     "execution_count": 19,
     "metadata": {},
     "output_type": "execute_result"
    }
   ],
   "source": [
    "data_matrix"
   ]
  },
  {
   "cell_type": "code",
   "execution_count": 22,
   "metadata": {},
   "outputs": [],
   "source": [
    "X=data_matrix[0:,1:]"
   ]
  },
  {
   "cell_type": "code",
   "execution_count": 23,
   "metadata": {},
   "outputs": [
    {
     "data": {
      "text/plain": [
       "array([[3.0400e+03, 1.0000e+00, 4.0000e+00, ..., 3.4900e+02, 1.0000e+00,\n",
       "        8.0303e+04],\n",
       "       [2.9200e+03, 1.0000e+00, 3.0000e+00, ..., 8.1000e+01, 1.0000e+00,\n",
       "        8.0303e+04],\n",
       "       [3.8450e+03, 1.0000e+00, 4.0000e+00, ..., 1.9000e+01, 1.0000e+00,\n",
       "        8.0303e+04],\n",
       "       ...,\n",
       "       [1.5380e+03, 2.0000e+00, 2.0000e+00, ..., 3.3000e+01, 1.0000e+00,\n",
       "        8.0304e+04],\n",
       "       [7.3600e+02, 0.0000e+00, 1.0000e+00, ..., 1.2000e+01, 1.0000e+00,\n",
       "        8.0304e+04],\n",
       "       [7.5200e+02, 0.0000e+00, 1.0000e+00, ..., 1.0000e+01, 1.0000e+00,\n",
       "        8.0304e+04]])"
      ]
     },
     "execution_count": 23,
     "metadata": {},
     "output_type": "execute_result"
    }
   ],
   "source": [
    "X"
   ]
  },
  {
   "cell_type": "code",
   "execution_count": 25,
   "metadata": {},
   "outputs": [],
   "source": [
    "Y=data_matrix[0:,0]"
   ]
  },
  {
   "cell_type": "code",
   "execution_count": 26,
   "metadata": {
    "collapsed": true
   },
   "outputs": [
    {
     "data": {
      "text/plain": [
       "array([ 895.   ,  659.   , 1840.   ,  335.   ,  299.   , 6499.   ,\n",
       "       1500.   , 2790.   ,  479.9  , 1487.5  , 2795.   ,  140.   ,\n",
       "        425.   , 1965.   ,  410.   , 1900.   ,  899.9  ,  609.9  ,\n",
       "        545.   ,  699.9  ,  589.   ,  700.   ,  415.   ,  329.9  ,\n",
       "        975.   ,  999.9  , 1849.   , 3250.   , 3875.   ,  345.   ,\n",
       "        339.   ,  349.   ,  162.9  ,  255.   ,  824.   ,  629.5  ,\n",
       "        699.9  ,  679.   ,  375.   ,  485.   ,  172.9  ,  229.9  ,\n",
       "        998.   , 1199.9  ,  949.   ,  998.   ,  479.   ,  485.   ,\n",
       "       1850.   ,  519.   , 1095.   ,  675.   ,  899.   ,  565.   ,\n",
       "       1700.   ,  339.9  ,  469.9  ,  559.9  , 1895.   ,  162.4  ,\n",
       "       1050.   ,  575.7  ,  710.   ,  225.   ,  524.9  ,  205.   ,\n",
       "        174.9  , 2195.   ,  139.999,  439.9  ,  184.9  ,  678.   ,\n",
       "        329.   ,  149.9  , 1175.   , 1650.   ,  257.5  ,  995.   ,\n",
       "       2195.   ,  550.   ,  559.9  ,  181.999,  269.   , 1389.   ,\n",
       "        287.9  ,  240.   ,  642.5  ,  128.9  ,  138.5  ,  173.994,\n",
       "        292.   ,  235.   ,  120.   ,  437.9  ,  577.5  ,  580.   ,\n",
       "        437.9  ,  234.75 ,  320.   ,  575.   ,  235.75 ,  270.   ,\n",
       "        235.   ,  425.   ,  469.9  ,  449.9  ,  224.   ,  217.   ,\n",
       "        749.   ,  419.   ,  749.   ,  134.9  ,  849.   ,  885.   ,\n",
       "       3750.   , 2300.   ,  449.   ,  579.   ,  300.   ,  799.   ,\n",
       "       2125.   ,  539.5  ,  659.   ,  538.5  ,  577.5  ,  662.   ,\n",
       "        425.   , 1250.   , 1395.   , 2785.   , 1195.   , 3875.   ,\n",
       "       1600.   ,  499.9  , 1049.5  , 2790.   , 1325.   ,  485.9  ,\n",
       "        498.5  ,  525.   , 2399.   ,  354.9  ,  295.   ,  309.   ,\n",
       "        425.   ,  689.9  ,  307.9  ,  599.   , 1249.9  ,  850.   ,\n",
       "       4250.   ,  579.   , 2700.   ,  300.   , 1349.   ,  195.   ,\n",
       "       1950.   ,  107.75 ,  172.5  , 4250.   ,  699.   , 1750.   ,\n",
       "       1850.   ,  619.   ,  539.   , 3950.   ,  924.9  , 1150.   ,\n",
       "        889.   ,  749.   ,  749.   ,  940.   ,  950.   ,  615.   ,\n",
       "        465.   , 1350.   ,  335.   ,  474.   ,  749.   , 1149.   ,\n",
       "       1185.   , 1200.   , 2250.   , 1695.   , 1550.   , 2350.   ,\n",
       "       1445.   ,  129.   ,  675.   ,  415.   ,  865.   , 1195.   ,\n",
       "        129.   ,  295.   ,  295.   , 1650.   , 1005.   , 1315.   ,\n",
       "       1395.   , 1950.   ,  965.   , 1900.   , 1195.   ,  609.   ,\n",
       "        949.5  ,  389.   , 1030.   ,  995.   ,  685.   , 1695.   ,\n",
       "        349.9  , 1375.   ,  995.   ,  995.   ,  775.   ,  146.557,\n",
       "       2100.   ,  214.9  ,  119.5  ,  129.9  ,  574.9  ,  799.   ,\n",
       "        919.   ,  900.   , 1325.   ,  819.9  , 1325.   ,  369.   ,\n",
       "        995.   ,  139.   , 1780.   ,  280.   ,  129.9  ,  924.   ,\n",
       "        319.5  , 3450.   ,  565.   ,  185.   ,  849.7  ,  837.5  ,\n",
       "        234.85 ,  899.95 , 2550.   , 2299.   , 1199.   ,  510.   ,\n",
       "       2099.   ,  660.   , 1059.   , 1597.   ,  895.   , 1100.   ,\n",
       "        719.   , 1125.   , 2995.   , 2825.   ,  574.9  , 1289.5  ,\n",
       "       2295.   ,  520.   ,  335.638, 1150.   ,  775.   ,  625.   ,\n",
       "       7500.   , 1250.   ,  829.   ,  995.   , 3250.   ,  339.   ,\n",
       "        775.   ,  530.   ,  670.   ,  619.9  , 1250.   ,  485.   ,\n",
       "       1250.   ,  797.   ,  998.   ,  659.9  ,  734.9  ,  930.   ,\n",
       "        749.9  , 2295.   ,  824.9  ,  895.   ,  292.   ,  899.   ,\n",
       "        350.   , 2250.   ,  804.   ,  204.   ,  239.5  ,  695.   ,\n",
       "        380.   ,  750.   ,  510.   , 1025.   ,  199.99 ,  169.5  ,\n",
       "       1500.   , 2399.   , 2495.   ,  127.969,  664.9  ,  679.9  ,\n",
       "        145.886,  659.9  ,  215.   ,  600.   ,  529.   ,  489.9  ,\n",
       "        150.09 ,  118.671])"
      ]
     },
     "execution_count": 26,
     "metadata": {},
     "output_type": "execute_result"
    }
   ],
   "source": [
    "Y"
   ]
  },
  {
   "cell_type": "code",
   "execution_count": 27,
   "metadata": {},
   "outputs": [],
   "source": [
    "scaler = preprocessing.StandardScaler().fit(X)"
   ]
  },
  {
   "cell_type": "code",
   "execution_count": 28,
   "metadata": {},
   "outputs": [],
   "source": [
    "X=scaler.transform(X)"
   ]
  },
  {
   "cell_type": "code",
   "execution_count": 29,
   "metadata": {},
   "outputs": [
    {
     "data": {
      "text/plain": [
       "array([[ 0.27440612,  0.47948371,  0.69974379, ...,  2.49836432,\n",
       "         0.33096924, -0.02476109],\n",
       "       [ 0.20586371,  0.47948371, -0.03265471, ...,  0.06077181,\n",
       "         0.33096924, -0.02476109],\n",
       "       [ 0.73421145,  0.47948371,  0.69974379, ..., -0.50314885,\n",
       "         0.33096924, -0.02476109],\n",
       "       ...,\n",
       "       [-0.58351638,  2.15234912, -0.76505321, ..., -0.37581193,\n",
       "         0.33096924,  0.83912578],\n",
       "       [-1.04160815, -1.19338169, -1.4974517 , ..., -0.56681731,\n",
       "         0.33096924,  0.83912578],\n",
       "       [-1.03246916, -1.19338169, -1.4974517 , ..., -0.5850083 ,\n",
       "         0.33096924,  0.83912578]])"
      ]
     },
     "execution_count": 29,
     "metadata": {},
     "output_type": "execute_result"
    }
   ],
   "source": [
    "X"
   ]
  },
  {
   "cell_type": "code",
   "execution_count": 37,
   "metadata": {},
   "outputs": [
    {
     "data": {
      "text/plain": [
       "251.20000000000002"
      ]
     },
     "execution_count": 37,
     "metadata": {},
     "output_type": "execute_result"
    }
   ],
   "source": [
    "X.shape[0]*0.8"
   ]
  },
  {
   "cell_type": "code",
   "execution_count": 36,
   "metadata": {},
   "outputs": [
    {
     "data": {
      "text/plain": [
       "251"
      ]
     },
     "execution_count": 36,
     "metadata": {},
     "output_type": "execute_result"
    }
   ],
   "source": [
    "math.floor(X.shape[0]*0.8)"
   ]
  },
  {
   "cell_type": "code",
   "execution_count": 38,
   "metadata": {},
   "outputs": [],
   "source": [
    "X_train=X[0:math.floor(X.shape[0]*0.8)]"
   ]
  },
  {
   "cell_type": "code",
   "execution_count": 39,
   "metadata": {},
   "outputs": [
    {
     "data": {
      "text/plain": [
       "(251, 9)"
      ]
     },
     "execution_count": 39,
     "metadata": {},
     "output_type": "execute_result"
    }
   ],
   "source": [
    "X_train.shape"
   ]
  },
  {
   "cell_type": "code",
   "execution_count": 40,
   "metadata": {},
   "outputs": [],
   "source": [
    "X_test=X[math.floor(X.shape[0]*0.8):]\n",
    "Y_train=Y[0:math.floor(X.shape[0]*0.8)]\n",
    "Y_test=Y[math.floor(X.shape[0]*0.8):]"
   ]
  },
  {
   "cell_type": "code",
   "execution_count": 41,
   "metadata": {},
   "outputs": [],
   "source": [
    "from sklearn.linear_model import LinearRegression"
   ]
  },
  {
   "cell_type": "code",
   "execution_count": 43,
   "metadata": {},
   "outputs": [],
   "source": [
    "reg = LinearRegression().fit(X_train, Y_train)"
   ]
  },
  {
   "cell_type": "code",
   "execution_count": 44,
   "metadata": {},
   "outputs": [
    {
     "data": {
      "text/plain": [
       "0.6896553063250539"
      ]
     },
     "execution_count": 44,
     "metadata": {},
     "output_type": "execute_result"
    }
   ],
   "source": [
    " reg.score(X_train, Y_train)"
   ]
  },
  {
   "cell_type": "code",
   "execution_count": 46,
   "metadata": {},
   "outputs": [],
   "source": [
    "Y_pred=reg.predict(X_test)"
   ]
  },
  {
   "cell_type": "code",
   "execution_count": 47,
   "metadata": {},
   "outputs": [
    {
     "data": {
      "text/plain": [
       "array([1606.50410648,  832.52947676, 1376.30441981, 3032.08997042,\n",
       "       2190.23338108,  274.92965231, 1630.24119901, 2508.35748378,\n",
       "        719.88759432, 1029.78066519, 2042.81891465, 1581.64694199,\n",
       "        864.41831822, 5493.11366348, 1886.54336843, 1614.22403175,\n",
       "       2035.74960257, 3295.9649757 ,  353.07110695, 1838.89066983,\n",
       "        521.96687852,  843.89774943,  693.00873261,  310.28894969,\n",
       "        297.60891162,  310.6293876 , 2023.4233902 , 1959.59556586,\n",
       "        330.39009229, 1662.58541033, 2012.23618437,  811.06410505,\n",
       "       2254.45028368, 1599.46848644, 1571.97453718,  304.71876444,\n",
       "       1971.6598201 ,  463.42135247, 2300.03864102, 1403.39988118,\n",
       "        228.44906112,  105.7901116 ,  609.0921711 ,  313.12795216,\n",
       "       2674.3999458 ,  814.68483191, 1771.02285667,  403.923945  ,\n",
       "        267.36236895, 2551.98879433, 2744.41783566, 3795.44421899,\n",
       "        198.29213704, 1386.7656043 ,  789.39389321,  323.95020015,\n",
       "        940.77678765,  230.3555134 ,  485.7034747 ,  381.2421795 ,\n",
       "        537.25715485,  260.87473509,  272.31190943])"
      ]
     },
     "execution_count": 47,
     "metadata": {},
     "output_type": "execute_result"
    }
   ],
   "source": [
    "Y_pred"
   ]
  },
  {
   "cell_type": "code",
   "execution_count": 48,
   "metadata": {},
   "outputs": [
    {
     "data": {
      "text/plain": [
       "array([1100.   ,  719.   , 1125.   , 2995.   , 2825.   ,  574.9  ,\n",
       "       1289.5  , 2295.   ,  520.   ,  335.638, 1150.   ,  775.   ,\n",
       "        625.   , 7500.   , 1250.   ,  829.   ,  995.   , 3250.   ,\n",
       "        339.   ,  775.   ,  530.   ,  670.   ,  619.9  , 1250.   ,\n",
       "        485.   , 1250.   ,  797.   ,  998.   ,  659.9  ,  734.9  ,\n",
       "        930.   ,  749.9  , 2295.   ,  824.9  ,  895.   ,  292.   ,\n",
       "        899.   ,  350.   , 2250.   ,  804.   ,  204.   ,  239.5  ,\n",
       "        695.   ,  380.   ,  750.   ,  510.   , 1025.   ,  199.99 ,\n",
       "        169.5  , 1500.   , 2399.   , 2495.   ,  127.969,  664.9  ,\n",
       "        679.9  ,  145.886,  659.9  ,  215.   ,  600.   ,  529.   ,\n",
       "        489.9  ,  150.09 ,  118.671])"
      ]
     },
     "execution_count": 48,
     "metadata": {},
     "output_type": "execute_result"
    }
   ],
   "source": [
    "Y_test"
   ]
  },
  {
   "cell_type": "code",
   "execution_count": 49,
   "metadata": {},
   "outputs": [],
   "source": [
    "from sklearn.metrics import mean_squared_error"
   ]
  },
  {
   "cell_type": "code",
   "execution_count": 50,
   "metadata": {},
   "outputs": [
    {
     "data": {
      "text/plain": [
       "434123.85202188615"
      ]
     },
     "execution_count": 50,
     "metadata": {},
     "output_type": "execute_result"
    }
   ],
   "source": [
    "mean_squared_error(Y_test, Y_pred)"
   ]
  },
  {
   "cell_type": "code",
   "execution_count": null,
   "metadata": {},
   "outputs": [],
   "source": []
  }
 ],
 "metadata": {
  "kernelspec": {
   "display_name": "Python 3",
   "language": "python",
   "name": "python3"
  },
  "language_info": {
   "codemirror_mode": {
    "name": "ipython",
    "version": 3
   },
   "file_extension": ".py",
   "mimetype": "text/x-python",
   "name": "python",
   "nbconvert_exporter": "python",
   "pygments_lexer": "ipython3",
   "version": "3.8.3"
  }
 },
 "nbformat": 4,
 "nbformat_minor": 4
}
